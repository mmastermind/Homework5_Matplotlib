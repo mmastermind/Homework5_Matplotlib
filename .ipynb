{
 "cells": [
  {
   "cell_type": "code",
   "execution_count": null,
   "metadata": {},
   "outputs": [],
   "source": [
    "tum_vol_tpoint.head()\n",
    "#read_11 = a.loc[a[\"grade\"] == \"11th\",:]\n",
    "Capomulin = data.loc[data[\"Drug\"]==\"Capomulin\",:]\n",
    "#Capomulin_time_grouped = Capomulin_time.groupby[\"Timepoint\"] # wasn't working 'casuse syntaxis, []instead of ()\n",
    "Capomulin_grouped = Capomulin.groupby(\"Timepoint\").mean()\n",
    "Ketapril = data.loc[data[\"Drug\"]==\"Ketapril\",:]\n",
    "Ketapril_grouped = Ketapril.groupby(\"Timepoint\").mean()\n",
    "Naftisol = data.loc[data[\"Drug\"]==\"Naftisol\",:]\n",
    "Naftisol_grouped = Naftisol.groupby(\"Timepoint\").mean()\n",
    "Infubinol = data.loc[data[\"Drug\"]==\"Infubinol\",:]\n",
    "Infubinol_grouped = Infubinol.groupby(\"Timepoint\").mean()\n",
    "Stelasyn = data.loc[data[\"Drug\"]==\"Stelasyn\",:]\n",
    "Stelasyn_grouped = Stelasyn.groupby(\"Timepoint\").mean()\n",
    "Ramicane = data.loc[data[\"Drug\"]==\"Ramicane\",:]\n",
    "Ramicane_grouped = Ramicane.groupby(\"Timepoint\").mean()\n",
    "Propriva = data.loc[data[\"Drug\"]==\"Propriva\",:]\n",
    "Propriva_grouped = Propriva.groupby(\"Timepoint\").mean()\n",
    "Zoniferol = data.loc[data[\"Drug\"]==\"Zoniferol\",:]\n",
    "Zoniferol_grouped = Zoniferol.groupby(\"Timepoint\").mean()\n",
    "Placebo = data.loc[data[\"Drug\"]==\"Placebo\",:]\n",
    "Placebo_grouped = Placebo.groupby(\"Timepoint\").mean()\n",
    "Ceftamin = data.loc[data[\"Drug\"]==\"Ceftamin\",:]\n",
    "Ceftamin_grouped = Ceftamin.groupby(\"Timepoint\").mean()\n",
    "#Drugs_grouped = [x for x in Drugs [Drugs[x].data.loc[data[\"Drug\"]==Drugs[x],:]].groupby(\"Timepoint\").mean()]\n",
    "x_axis = tum_vol_tpoint[\"Timepoint\"].unique()\n",
    "plt.scatter(x_axis,Capomulin_grouped[\"Tumor Volume (mm3)\"], label = \"Capomulin\", marker =\">\")\n",
    "plt.scatter(x_axis,Ketapril_grouped[\"Tumor Volume (mm3)\"], label =\"Ketapril\", marker =\"*\")\n",
    "plt.scatter(x_axis,Naftisol_grouped[\"Tumor Volume (mm3)\"], label =\"Naftisol\")\n",
    "plt.scatter(x_axis,Infubinol_grouped[\"Tumor Volume (mm3)\"], label=\"Infunibol\")\n",
    "plt.scatter(x_axis,Stelasyn_grouped[\"Tumor Volume (mm3)\"], label=\"Stelasyn\")\n",
    "plt.scatter(x_axis,Ramicane_grouped[\"Tumor Volume (mm3)\"], label=\"Ramicane\", marker =\"+\")\n",
    "plt.scatter(x_axis,Propriva_grouped[\"Tumor Volume (mm3)\"], label =\"Propriva\")\n",
    "plt.scatter(x_axis,Zoniferol_grouped[\"Tumor Volume (mm3)\"], label=\"Zoniferol\")\n",
    "plt.scatter(x_axis,Placebo_grouped[\"Tumor Volume (mm3)\"], marker =\"x\", label = \"Placebo\")\n",
    "plt.scatter(x_axis,Ceftamin_grouped[\"Tumor Volume (mm3)\"], label =\"Ceftamin\")\n",
    "plt.xlim(0, 65)\n",
    "plt.ylim(30, 80)\n",
    "plt.title(\"Tumor Volume Change Over Time\")\n",
    "plt.xlabel(\"Timepoint\")\n",
    "plt.ylabel(\"Volume (mm3)\")\n",
    "plt.legend(loc=\"best\")\n",
    "#plt.legend(position=\"right center\")\n",
    "plt.show()\n",
    "plt.savefig(\"Images/Survival_rate.png\")"
   ]
  }
 ],
 "metadata": {
  "kernelspec": {
   "display_name": "Python 3",
   "language": "python",
   "name": "python3"
  },
  "language_info": {
   "codemirror_mode": {
    "name": "ipython",
    "version": 3
   },
   "file_extension": ".py",
   "mimetype": "text/x-python",
   "name": "python",
   "nbconvert_exporter": "python",
   "pygments_lexer": "ipython3",
   "version": "3.7.3"
  }
 },
 "nbformat": 4,
 "nbformat_minor": 2
}
